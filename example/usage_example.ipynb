{
 "cells": [
  {
   "cell_type": "markdown",
   "source": [
    "### Akin - Example Usage"
   ],
   "metadata": {
    "collapsed": false,
    "pycharm": {
     "name": "#%% md\n"
    }
   }
  },
  {
   "cell_type": "code",
   "execution_count": 1,
   "outputs": [],
   "source": [
    "from akin import MultiHash, LSH\n",
    "import pandas as pd"
   ],
   "metadata": {
    "collapsed": false,
    "pycharm": {
     "name": "#%%\n"
    }
   }
  },
  {
   "cell_type": "code",
   "execution_count": 2,
   "outputs": [],
   "source": [
    "content = pd.DataFrame(\n",
    "    {\n",
    "        'text': [\n",
    "            'Jupiter is primarily composed of hydrogen with a quarter of its mass being helium',\n",
    "            'Jupiter moving out of the inner Solar System would have allowed the formation of inner planets.',\n",
    "            'A helium atom has about four times as much mass as a hydrogen atom, so the composition changes '\n",
    "            'when described as the proportion of mass contributed by different atoms.',\n",
    "            'Jupiter is primarily composed of hydrogen and a quarter of its mass being helium',\n",
    "            'A helium atom has about four times as much mass as a hydrogen atom and the composition changes '\n",
    "            'when described as a proportion of mass contributed by different atoms.',\n",
    "            'Theoretical models indicate that if Jupiter had much more mass than it does at present, it '\n",
    "            'would shrink.',\n",
    "            'This process causes Jupiter to shrink by about 2 cm each year.',\n",
    "            'Jupiter is mostly composed of hydrogen with a quarter of its mass being helium',\n",
    "            'The Great Red Spot is large enough to accommodate Earth within its boundaries.'\n",
    "        ]\n",
    "    }\n",
    ")"
   ],
   "metadata": {
    "collapsed": false,
    "pycharm": {
     "name": "#%%\n"
    }
   }
  },
  {
   "cell_type": "markdown",
   "source": [
    "**Create MinHash object:**"
   ],
   "metadata": {
    "collapsed": false,
    "pycharm": {
     "name": "#%% md\n"
    }
   }
  },
  {
   "cell_type": "code",
   "execution_count": 3,
   "outputs": [],
   "source": [
    "minhash = MultiHash(n_gram=9, permutations=100, hash_bits=64, seed=3)"
   ],
   "metadata": {
    "collapsed": false,
    "pycharm": {
     "name": "#%%\n"
    }
   }
  },
  {
   "cell_type": "code",
   "execution_count": 4,
   "outputs": [],
   "source": [
    "signatures = minhash.transform(content['text'])"
   ],
   "metadata": {
    "collapsed": false,
    "pycharm": {
     "name": "#%%\n"
    }
   }
  },
  {
   "cell_type": "code",
   "execution_count": 5,
   "outputs": [],
   "source": [
    "content['signature'] = signatures"
   ],
   "metadata": {
    "collapsed": false,
    "pycharm": {
     "name": "#%%\n"
    }
   }
  },
  {
   "cell_type": "code",
   "execution_count": 6,
   "outputs": [
    {
     "data": {
      "text/plain": "                                                text  \\\n0  Jupiter is primarily composed of hydrogen with...   \n1  Jupiter moving out of the inner Solar System w...   \n2  A helium atom has about four times as much mas...   \n3  Jupiter is primarily composed of hydrogen and ...   \n4  A helium atom has about four times as much mas...   \n5  Theoretical models indicate that if Jupiter ha...   \n6  This process causes Jupiter to shrink by about...   \n7  Jupiter is mostly composed of hydrogen with a ...   \n8  The Great Red Spot is large enough to accommod...   \n\n                                           signature  \n0  (-9050934246571064385, -9214906801195985462, -...  \n1  (-9174302289558572688, -9194971056948479927, -...  \n2  (-9175048834891487841, -9085998147126773419, -...  \n3  (-8798265333996157434, -8962219986627421974, -...  \n4  (-9175048834891487841, -9127105545562189603, -...  \n5  (-9006657039299929325, -9174745613751414767, -...  \n6  (-9093545881359078396, -9149786975706429297, -...  \n7  (-9050934246571064385, -9214906801195985462, -...  \n8  (-9220181301477941095, -9070612480513123769, -...  ",
      "text/html": "<div>\n<style scoped>\n    .dataframe tbody tr th:only-of-type {\n        vertical-align: middle;\n    }\n\n    .dataframe tbody tr th {\n        vertical-align: top;\n    }\n\n    .dataframe thead th {\n        text-align: right;\n    }\n</style>\n<table border=\"1\" class=\"dataframe\">\n  <thead>\n    <tr style=\"text-align: right;\">\n      <th></th>\n      <th>text</th>\n      <th>signature</th>\n    </tr>\n  </thead>\n  <tbody>\n    <tr>\n      <th>0</th>\n      <td>Jupiter is primarily composed of hydrogen with...</td>\n      <td>(-9050934246571064385, -9214906801195985462, -...</td>\n    </tr>\n    <tr>\n      <th>1</th>\n      <td>Jupiter moving out of the inner Solar System w...</td>\n      <td>(-9174302289558572688, -9194971056948479927, -...</td>\n    </tr>\n    <tr>\n      <th>2</th>\n      <td>A helium atom has about four times as much mas...</td>\n      <td>(-9175048834891487841, -9085998147126773419, -...</td>\n    </tr>\n    <tr>\n      <th>3</th>\n      <td>Jupiter is primarily composed of hydrogen and ...</td>\n      <td>(-8798265333996157434, -8962219986627421974, -...</td>\n    </tr>\n    <tr>\n      <th>4</th>\n      <td>A helium atom has about four times as much mas...</td>\n      <td>(-9175048834891487841, -9127105545562189603, -...</td>\n    </tr>\n    <tr>\n      <th>5</th>\n      <td>Theoretical models indicate that if Jupiter ha...</td>\n      <td>(-9006657039299929325, -9174745613751414767, -...</td>\n    </tr>\n    <tr>\n      <th>6</th>\n      <td>This process causes Jupiter to shrink by about...</td>\n      <td>(-9093545881359078396, -9149786975706429297, -...</td>\n    </tr>\n    <tr>\n      <th>7</th>\n      <td>Jupiter is mostly composed of hydrogen with a ...</td>\n      <td>(-9050934246571064385, -9214906801195985462, -...</td>\n    </tr>\n    <tr>\n      <th>8</th>\n      <td>The Great Red Spot is large enough to accommod...</td>\n      <td>(-9220181301477941095, -9070612480513123769, -...</td>\n    </tr>\n  </tbody>\n</table>\n</div>"
     },
     "execution_count": 6,
     "metadata": {},
     "output_type": "execute_result"
    }
   ],
   "source": [
    "content"
   ],
   "metadata": {
    "collapsed": false,
    "pycharm": {
     "name": "#%%\n"
    }
   }
  },
  {
   "cell_type": "markdown",
   "source": [
    "**Create LSH object:**"
   ],
   "metadata": {
    "collapsed": false,
    "pycharm": {
     "name": "#%% md\n"
    }
   }
  },
  {
   "cell_type": "code",
   "execution_count": 7,
   "outputs": [],
   "source": [
    "lsh = LSH(no_of_bands=50)"
   ],
   "metadata": {
    "collapsed": false,
    "pycharm": {
     "name": "#%%\n"
    }
   }
  },
  {
   "cell_type": "code",
   "execution_count": 8,
   "outputs": [],
   "source": [
    "lsh.update(signatures)"
   ],
   "metadata": {
    "collapsed": false,
    "pycharm": {
     "name": "#%%\n"
    }
   }
  },
  {
   "cell_type": "markdown",
   "source": [
    "**Query to find near duplicates for text 1:**"
   ],
   "metadata": {
    "collapsed": false,
    "pycharm": {
     "name": "#%% md\n"
    }
   }
  },
  {
   "cell_type": "code",
   "execution_count": 9,
   "outputs": [],
   "source": [
    "text_1_minhash = signatures[0]"
   ],
   "metadata": {
    "collapsed": false,
    "pycharm": {
     "name": "#%%\n"
    }
   }
  },
  {
   "cell_type": "code",
   "execution_count": 10,
   "outputs": [],
   "source": [
    "near_duplicates = lsh.query(text_1_minhash, min_jaccard=0.5)"
   ],
   "metadata": {
    "collapsed": false,
    "pycharm": {
     "name": "#%%\n"
    }
   }
  },
  {
   "cell_type": "code",
   "execution_count": 11,
   "outputs": [
    {
     "data": {
      "text/plain": "3    Jupiter is primarily composed of hydrogen and ...\n7    Jupiter is mostly composed of hydrogen with a ...\nName: text, dtype: object"
     },
     "execution_count": 11,
     "metadata": {},
     "output_type": "execute_result"
    }
   ],
   "source": [
    "content.loc[content['signature'].isin(near_duplicates)]['text']"
   ],
   "metadata": {
    "collapsed": false,
    "pycharm": {
     "name": "#%%\n"
    }
   }
  },
  {
   "cell_type": "markdown",
   "source": [
    "**Generate minhash signature and add new texts to LSH model:**"
   ],
   "metadata": {
    "collapsed": false,
    "pycharm": {
     "name": "#%% md\n"
    }
   }
  },
  {
   "cell_type": "code",
   "execution_count": 12,
   "outputs": [],
   "source": [
    "new_text = [\n",
    "    'Jupiter is primarily composed of hydrogen with a quarter of its mass being helium',\n",
    "    'Jupiter moving out of the inner Solar System would have allowed the formation of '\n",
    "    'inner planets.'\n",
    "]"
   ],
   "metadata": {
    "collapsed": false,
    "pycharm": {
     "name": "#%%\n"
    }
   }
  },
  {
   "cell_type": "code",
   "execution_count": 13,
   "outputs": [],
   "source": [
    "new_signatures = minhash.transform(new_text)\n",
    "lsh.update(new_signatures)"
   ],
   "metadata": {
    "collapsed": false,
    "pycharm": {
     "name": "#%%\n"
    }
   }
  },
  {
   "cell_type": "markdown",
   "source": [
    "**Remove text and label from model:**"
   ],
   "metadata": {
    "collapsed": false,
    "pycharm": {
     "name": "#%% md\n"
    }
   }
  },
  {
   "cell_type": "code",
   "execution_count": 14,
   "outputs": [],
   "source": [
    "# Remove text and label from model.\n",
    "lsh.remove([signatures[3]])"
   ],
   "metadata": {
    "collapsed": false,
    "pycharm": {
     "name": "#%%\n"
    }
   }
  },
  {
   "cell_type": "code",
   "execution_count": 15,
   "outputs": [
    {
     "data": {
      "text/plain": "7    Jupiter is mostly composed of hydrogen with a ...\nName: text, dtype: object"
     },
     "execution_count": 15,
     "metadata": {},
     "output_type": "execute_result"
    }
   ],
   "source": [
    "near_duplicates = lsh.query(text_1_minhash, min_jaccard=0.5)\n",
    "content.loc[content['signature'].isin(near_duplicates)]['text']"
   ],
   "metadata": {
    "collapsed": false,
    "pycharm": {
     "name": "#%%\n"
    }
   }
  }
 ],
 "metadata": {
  "kernelspec": {
   "display_name": "Python 3",
   "language": "python",
   "name": "python3"
  },
  "language_info": {
   "codemirror_mode": {
    "name": "ipython",
    "version": 2
   },
   "file_extension": ".py",
   "mimetype": "text/x-python",
   "name": "python",
   "nbconvert_exporter": "python",
   "pygments_lexer": "ipython2",
   "version": "2.7.6"
  }
 },
 "nbformat": 4,
 "nbformat_minor": 0
}