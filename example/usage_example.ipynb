{
 "cells": [
  {
   "cell_type": "markdown",
   "metadata": {
    "collapsed": false,
    "pycharm": {
     "name": "#%% md\n"
    }
   },
   "source": [
    "### Akin - Example Usage"
   ]
  },
  {
   "cell_type": "code",
   "execution_count": 1,
   "metadata": {
    "collapsed": false,
    "pycharm": {
     "name": "#%%\n"
    }
   },
   "outputs": [],
   "source": [
    "from akin import UniMinHash, LSH\n",
    "import pandas as pd"
   ]
  },
  {
   "cell_type": "code",
   "execution_count": 2,
   "metadata": {
    "collapsed": false,
    "pycharm": {
     "name": "#%%\n"
    }
   },
   "outputs": [],
   "source": [
    "content = pd.DataFrame(\n",
    "    {\n",
    "        'text': [\n",
    "            'Jupiter is primarily composed of hydrogen with a quarter of its mass being helium',\n",
    "            'Jupiter moving out of the inner Solar System would have allowed the formation of inner planets.',\n",
    "            'A helium atom has about four times as much mass as a hydrogen atom, so the composition changes '\n",
    "            'when described as the proportion of mass contributed by different atoms.',\n",
    "            'Jupiter is primarily composed of hydrogen and a quarter of its mass being helium',\n",
    "            'A helium atom has about four times as much mass as a hydrogen atom and the composition changes '\n",
    "            'when described as a proportion of mass contributed by different atoms.',\n",
    "            'Theoretical models indicate that if Jupiter had much more mass than it does at present, it '\n",
    "            'would shrink.',\n",
    "            'This process causes Jupiter to shrink by about 2 cm each year.',\n",
    "            'Jupiter is mostly composed of hydrogen with a quarter of its mass being helium',\n",
    "            'The Great Red Spot is large enough to accommodate Earth within its boundaries.'\n",
    "        ]\n",
    "    }\n",
    ")"
   ]
  },
  {
   "cell_type": "code",
   "execution_count": 3,
   "metadata": {},
   "outputs": [
    {
     "data": {
      "text/plain": [
       "[1, 2, 3, 4, 5, 6, 7, 8]"
      ]
     },
     "execution_count": 3,
     "metadata": {},
     "output_type": "execute_result"
    }
   ],
   "source": [
    "labels = [i for i in range(1, len(content))]\n",
    "labels"
   ]
  },
  {
   "cell_type": "markdown",
   "metadata": {
    "collapsed": false,
    "pycharm": {
     "name": "#%% md\n"
    }
   },
   "source": [
    "**Create MinHash object:**"
   ]
  },
  {
   "cell_type": "code",
   "execution_count": 4,
   "metadata": {
    "collapsed": false,
    "pycharm": {
     "name": "#%%\n"
    }
   },
   "outputs": [],
   "source": [
    "minhash = UniMinHash(n_gram=9, permutations=30, hash_bits=64, seed=3)"
   ]
  },
  {
   "cell_type": "code",
   "execution_count": 5,
   "metadata": {
    "collapsed": false,
    "pycharm": {
     "name": "#%%\n"
    }
   },
   "outputs": [],
   "source": [
    "signatures = minhash.transform(content['text'])"
   ]
  },
  {
   "cell_type": "code",
   "execution_count": 6,
   "metadata": {
    "collapsed": false,
    "pycharm": {
     "name": "#%%\n"
    }
   },
   "outputs": [],
   "source": [
    "content['signature'] = signatures"
   ]
  },
  {
   "cell_type": "code",
   "execution_count": 7,
   "metadata": {
    "collapsed": false,
    "pycharm": {
     "name": "#%%\n"
    }
   },
   "outputs": [
    {
     "data": {
      "text/html": [
       "<div>\n",
       "<style scoped>\n",
       "    .dataframe tbody tr th:only-of-type {\n",
       "        vertical-align: middle;\n",
       "    }\n",
       "\n",
       "    .dataframe tbody tr th {\n",
       "        vertical-align: top;\n",
       "    }\n",
       "\n",
       "    .dataframe thead th {\n",
       "        text-align: right;\n",
       "    }\n",
       "</style>\n",
       "<table border=\"1\" class=\"dataframe\">\n",
       "  <thead>\n",
       "    <tr style=\"text-align: right;\">\n",
       "      <th></th>\n",
       "      <th>text</th>\n",
       "      <th>signature</th>\n",
       "    </tr>\n",
       "  </thead>\n",
       "  <tbody>\n",
       "    <tr>\n",
       "      <th>0</th>\n",
       "      <td>Jupiter is primarily composed of hydrogen with...</td>\n",
       "      <td>(-8690990394074104221, -8039832347290236251, -...</td>\n",
       "    </tr>\n",
       "    <tr>\n",
       "      <th>1</th>\n",
       "      <td>Jupiter moving out of the inner Solar System w...</td>\n",
       "      <td>(-9163654026142366035, -8430343577706303689, -...</td>\n",
       "    </tr>\n",
       "    <tr>\n",
       "      <th>2</th>\n",
       "      <td>A helium atom has about four times as much mas...</td>\n",
       "      <td>(-9200160712590687808, -9191248622597854076, -...</td>\n",
       "    </tr>\n",
       "    <tr>\n",
       "      <th>3</th>\n",
       "      <td>Jupiter is primarily composed of hydrogen and ...</td>\n",
       "      <td>(-8690990394074104221, -8039832347290236251, -...</td>\n",
       "    </tr>\n",
       "    <tr>\n",
       "      <th>4</th>\n",
       "      <td>A helium atom has about four times as much mas...</td>\n",
       "      <td>(-9200160712590687808, -9191248622597854076, -...</td>\n",
       "    </tr>\n",
       "    <tr>\n",
       "      <th>5</th>\n",
       "      <td>Theoretical models indicate that if Jupiter ha...</td>\n",
       "      <td>(-8658016116359304645, -8281325199261098028, -...</td>\n",
       "    </tr>\n",
       "    <tr>\n",
       "      <th>6</th>\n",
       "      <td>This process causes Jupiter to shrink by about...</td>\n",
       "      <td>(-8974290714879493554, -8196896290515441543, -...</td>\n",
       "    </tr>\n",
       "    <tr>\n",
       "      <th>7</th>\n",
       "      <td>Jupiter is mostly composed of hydrogen with a ...</td>\n",
       "      <td>(-8690990394074104221, -8039832347290236251, -...</td>\n",
       "    </tr>\n",
       "    <tr>\n",
       "      <th>8</th>\n",
       "      <td>The Great Red Spot is large enough to accommod...</td>\n",
       "      <td>(-9220885796373233114, -8851563496498238350, -...</td>\n",
       "    </tr>\n",
       "  </tbody>\n",
       "</table>\n",
       "</div>"
      ],
      "text/plain": [
       "                                                text  \\\n",
       "0  Jupiter is primarily composed of hydrogen with...   \n",
       "1  Jupiter moving out of the inner Solar System w...   \n",
       "2  A helium atom has about four times as much mas...   \n",
       "3  Jupiter is primarily composed of hydrogen and ...   \n",
       "4  A helium atom has about four times as much mas...   \n",
       "5  Theoretical models indicate that if Jupiter ha...   \n",
       "6  This process causes Jupiter to shrink by about...   \n",
       "7  Jupiter is mostly composed of hydrogen with a ...   \n",
       "8  The Great Red Spot is large enough to accommod...   \n",
       "\n",
       "                                           signature  \n",
       "0  (-8690990394074104221, -8039832347290236251, -...  \n",
       "1  (-9163654026142366035, -8430343577706303689, -...  \n",
       "2  (-9200160712590687808, -9191248622597854076, -...  \n",
       "3  (-8690990394074104221, -8039832347290236251, -...  \n",
       "4  (-9200160712590687808, -9191248622597854076, -...  \n",
       "5  (-8658016116359304645, -8281325199261098028, -...  \n",
       "6  (-8974290714879493554, -8196896290515441543, -...  \n",
       "7  (-8690990394074104221, -8039832347290236251, -...  \n",
       "8  (-9220885796373233114, -8851563496498238350, -...  "
      ]
     },
     "execution_count": 7,
     "metadata": {},
     "output_type": "execute_result"
    }
   ],
   "source": [
    "content"
   ]
  },
  {
   "cell_type": "markdown",
   "metadata": {
    "collapsed": false,
    "pycharm": {
     "name": "#%% md\n"
    }
   },
   "source": [
    "**Create LSH object:**"
   ]
  },
  {
   "cell_type": "code",
   "execution_count": 8,
   "metadata": {
    "collapsed": false,
    "pycharm": {
     "name": "#%%\n"
    }
   },
   "outputs": [],
   "source": [
    "lsh = LSH(permutations=30)\n",
    "lsh.update(signatures, labels)"
   ]
  },
  {
   "cell_type": "markdown",
   "metadata": {
    "collapsed": false,
    "pycharm": {
     "name": "#%% md\n"
    }
   },
   "source": [
    "**Query to find near duplicates for text 1:**"
   ]
  },
  {
   "cell_type": "code",
   "execution_count": 9,
   "metadata": {
    "collapsed": false,
    "pycharm": {
     "name": "#%%\n"
    }
   },
   "outputs": [
    {
     "data": {
      "text/plain": [
       "[8, 4]"
      ]
     },
     "execution_count": 9,
     "metadata": {},
     "output_type": "execute_result"
    }
   ],
   "source": [
    "lsh.query(1, min_jaccard=0.5)"
   ]
  },
  {
   "cell_type": "markdown",
   "metadata": {
    "collapsed": false,
    "pycharm": {
     "name": "#%% md\n"
    }
   },
   "source": [
    "**Generate minhash signature and add new texts to LSH model:**"
   ]
  },
  {
   "cell_type": "code",
   "execution_count": 10,
   "metadata": {
    "collapsed": false,
    "pycharm": {
     "name": "#%%\n"
    }
   },
   "outputs": [],
   "source": [
    "new_text = [\n",
    "    'Jupiter is primarily composed of hydrogen with a quarter of its mass being helium',\n",
    "    'Jupiter moving out of the inner Solar System would have allowed the formation of '\n",
    "    'inner planets.'\n",
    "]"
   ]
  },
  {
   "cell_type": "code",
   "execution_count": 11,
   "metadata": {},
   "outputs": [],
   "source": [
    "new_labels = ['doc1', 'doc2']"
   ]
  },
  {
   "cell_type": "code",
   "execution_count": 12,
   "metadata": {
    "collapsed": false,
    "pycharm": {
     "name": "#%%\n"
    }
   },
   "outputs": [],
   "source": [
    "new_signatures = minhash.transform(new_text)\n",
    "lsh.update(new_signatures, labels=new_labels)"
   ]
  },
  {
   "cell_type": "markdown",
   "metadata": {
    "collapsed": false,
    "pycharm": {
     "name": "#%% md\n"
    }
   },
   "source": [
    "**Remove text and label from model:**"
   ]
  },
  {
   "cell_type": "code",
   "execution_count": 13,
   "metadata": {
    "collapsed": false,
    "pycharm": {
     "name": "#%%\n"
    }
   },
   "outputs": [],
   "source": [
    "# Remove text and label from model.\n",
    "lsh.remove([5])"
   ]
  },
  {
   "cell_type": "code",
   "execution_count": 15,
   "metadata": {
    "collapsed": false,
    "pycharm": {
     "name": "#%%\n"
    }
   },
   "outputs": [
    {
     "name": "stderr",
     "output_type": "stream",
     "text": [
      "100%|██████████| 9/9 [00:00<00:00, 32236.32it/s]\n"
     ]
    },
    {
     "data": {
      "text/plain": [
       "{1: [8, 'doc1', 4],\n",
       " 2: ['doc2'],\n",
       " 3: [],\n",
       " 4: [1, 'doc1'],\n",
       " 6: [],\n",
       " 7: [],\n",
       " 8: [1, 'doc1'],\n",
       " 'doc1': [8, 1, 4],\n",
       " 'doc2': [2]}"
      ]
     },
     "execution_count": 15,
     "metadata": {},
     "output_type": "execute_result"
    }
   ],
   "source": [
    "lsh.adjacency_list(min_jaccard=0.55)"
   ]
  }
 ],
 "metadata": {
  "kernelspec": {
   "display_name": ".venv",
   "language": "python",
   "name": "python3"
  },
  "language_info": {
   "codemirror_mode": {
    "name": "ipython",
    "version": 3
   },
   "file_extension": ".py",
   "mimetype": "text/x-python",
   "name": "python",
   "nbconvert_exporter": "python",
   "pygments_lexer": "ipython3",
   "version": "3.11.5"
  }
 },
 "nbformat": 4,
 "nbformat_minor": 0
}
